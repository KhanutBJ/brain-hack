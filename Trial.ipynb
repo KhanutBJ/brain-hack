{
 "cells": [
  {
   "cell_type": "code",
   "execution_count": 1,
   "metadata": {},
   "outputs": [],
   "source": [
    "import mne\n",
    "from mne.preprocessing import ICA\n",
    "import scipy.io\n",
    "import sklearn\n",
    "import numpy as np\n",
    "import pandas as pd\n",
    "import tensorflow as tf\n",
    "import matplotlib.pyplot "
   ]
  },
  {
   "cell_type": "code",
   "execution_count": 17,
   "metadata": {},
   "outputs": [
    {
     "ename": "FileNotFoundError",
     "evalue": "[Errno 2] No such file or directory: 'preprocessing/YAC_ZuCo/YAC_Preprocessed/YAC_NR1_corrected_ET.mat'",
     "output_type": "error",
     "traceback": [
      "\u001b[0;31m---------------------------------------------------------------------------\u001b[0m",
      "\u001b[0;31mFileNotFoundError\u001b[0m                         Traceback (most recent call last)",
      "File \u001b[0;32m/Library/Frameworks/Python.framework/Versions/3.11/lib/python3.11/site-packages/scipy/io/matlab/_mio.py:39\u001b[0m, in \u001b[0;36m_open_file\u001b[0;34m(file_like, appendmat, mode)\u001b[0m\n\u001b[1;32m     38\u001b[0m \u001b[39mtry\u001b[39;00m:\n\u001b[0;32m---> 39\u001b[0m     \u001b[39mreturn\u001b[39;00m \u001b[39mopen\u001b[39m(file_like, mode), \u001b[39mTrue\u001b[39;00m\n\u001b[1;32m     40\u001b[0m \u001b[39mexcept\u001b[39;00m \u001b[39mOSError\u001b[39;00m \u001b[39mas\u001b[39;00m e:\n\u001b[1;32m     41\u001b[0m     \u001b[39m# Probably \"not found\"\u001b[39;00m\n",
      "\u001b[0;31mFileNotFoundError\u001b[0m: [Errno 2] No such file or directory: 'preprocessing/YAC_ZuCo/YAC_Preprocessed/YAC_NR1_corrected_ET.mat'",
      "\nDuring handling of the above exception, another exception occurred:\n",
      "\u001b[0;31mFileNotFoundError\u001b[0m                         Traceback (most recent call last)",
      "\u001b[1;32m/pannawittt/brain-hack/Trial.ipynb Cell 2\u001b[0m line \u001b[0;36m2\n\u001b[1;32m      <a href='vscode-notebook-cell://github/pannawittt/brain-hack/Trial.ipynb#W2sdnNjb2RlLXZmcw%3D%3D?line=0'>1</a>\u001b[0m File_name \u001b[39m=\u001b[39m \u001b[39m\"\u001b[39m\u001b[39mpreprocessing/YAC_ZuCo/YAC_Preprocessed/YAC_NR1_corrected_ET.mat\u001b[39m\u001b[39m\"\u001b[39m\n\u001b[0;32m----> <a href='vscode-notebook-cell://github/pannawittt/brain-hack/Trial.ipynb#W2sdnNjb2RlLXZmcw%3D%3D?line=1'>2</a>\u001b[0m mat_data \u001b[39m=\u001b[39m scipy\u001b[39m.\u001b[39;49mio\u001b[39m.\u001b[39;49mloadmat(File_name)\n\u001b[1;32m      <a href='vscode-notebook-cell://github/pannawittt/brain-hack/Trial.ipynb#W2sdnNjb2RlLXZmcw%3D%3D?line=2'>3</a>\u001b[0m eeg_data \u001b[39m=\u001b[39m mat_data[\u001b[39m'\u001b[39m\u001b[39mEEG\u001b[39m\u001b[39m'\u001b[39m]\n\u001b[1;32m      <a href='vscode-notebook-cell://github/pannawittt/brain-hack/Trial.ipynb#W2sdnNjb2RlLXZmcw%3D%3D?line=4'>5</a>\u001b[0m \u001b[39m#Extract information\u001b[39;00m\n",
      "File \u001b[0;32m/Library/Frameworks/Python.framework/Versions/3.11/lib/python3.11/site-packages/scipy/io/matlab/_mio.py:225\u001b[0m, in \u001b[0;36mloadmat\u001b[0;34m(file_name, mdict, appendmat, **kwargs)\u001b[0m\n\u001b[1;32m     88\u001b[0m \u001b[39m\u001b[39m\u001b[39m\"\"\"\u001b[39;00m\n\u001b[1;32m     89\u001b[0m \u001b[39mLoad MATLAB file.\u001b[39;00m\n\u001b[1;32m     90\u001b[0m \n\u001b[0;32m   (...)\u001b[0m\n\u001b[1;32m    222\u001b[0m \u001b[39m    3.14159265+3.14159265j])\u001b[39;00m\n\u001b[1;32m    223\u001b[0m \u001b[39m\"\"\"\u001b[39;00m\n\u001b[1;32m    224\u001b[0m variable_names \u001b[39m=\u001b[39m kwargs\u001b[39m.\u001b[39mpop(\u001b[39m'\u001b[39m\u001b[39mvariable_names\u001b[39m\u001b[39m'\u001b[39m, \u001b[39mNone\u001b[39;00m)\n\u001b[0;32m--> 225\u001b[0m \u001b[39mwith\u001b[39;49;00m _open_file_context(file_name, appendmat) \u001b[39mas\u001b[39;49;00m f:\n\u001b[1;32m    226\u001b[0m     MR, _ \u001b[39m=\u001b[39;49m mat_reader_factory(f, \u001b[39m*\u001b[39;49m\u001b[39m*\u001b[39;49mkwargs)\n\u001b[1;32m    227\u001b[0m     matfile_dict \u001b[39m=\u001b[39;49m MR\u001b[39m.\u001b[39;49mget_variables(variable_names)\n",
      "File \u001b[0;32m/Library/Frameworks/Python.framework/Versions/3.11/lib/python3.11/contextlib.py:137\u001b[0m, in \u001b[0;36m_GeneratorContextManager.__enter__\u001b[0;34m(self)\u001b[0m\n\u001b[1;32m    135\u001b[0m \u001b[39mdel\u001b[39;00m \u001b[39mself\u001b[39m\u001b[39m.\u001b[39margs, \u001b[39mself\u001b[39m\u001b[39m.\u001b[39mkwds, \u001b[39mself\u001b[39m\u001b[39m.\u001b[39mfunc\n\u001b[1;32m    136\u001b[0m \u001b[39mtry\u001b[39;00m:\n\u001b[0;32m--> 137\u001b[0m     \u001b[39mreturn\u001b[39;00m \u001b[39mnext\u001b[39m(\u001b[39mself\u001b[39m\u001b[39m.\u001b[39mgen)\n\u001b[1;32m    138\u001b[0m \u001b[39mexcept\u001b[39;00m \u001b[39mStopIteration\u001b[39;00m:\n\u001b[1;32m    139\u001b[0m     \u001b[39mraise\u001b[39;00m \u001b[39mRuntimeError\u001b[39;00m(\u001b[39m\"\u001b[39m\u001b[39mgenerator didn\u001b[39m\u001b[39m'\u001b[39m\u001b[39mt yield\u001b[39m\u001b[39m\"\u001b[39m) \u001b[39mfrom\u001b[39;00m \u001b[39mNone\u001b[39m\n",
      "File \u001b[0;32m/Library/Frameworks/Python.framework/Versions/3.11/lib/python3.11/site-packages/scipy/io/matlab/_mio.py:17\u001b[0m, in \u001b[0;36m_open_file_context\u001b[0;34m(file_like, appendmat, mode)\u001b[0m\n\u001b[1;32m     15\u001b[0m \u001b[39m@contextmanager\u001b[39m\n\u001b[1;32m     16\u001b[0m \u001b[39mdef\u001b[39;00m \u001b[39m_open_file_context\u001b[39m(file_like, appendmat, mode\u001b[39m=\u001b[39m\u001b[39m'\u001b[39m\u001b[39mrb\u001b[39m\u001b[39m'\u001b[39m):\n\u001b[0;32m---> 17\u001b[0m     f, opened \u001b[39m=\u001b[39m _open_file(file_like, appendmat, mode)\n\u001b[1;32m     18\u001b[0m     \u001b[39mtry\u001b[39;00m:\n\u001b[1;32m     19\u001b[0m         \u001b[39myield\u001b[39;00m f\n",
      "File \u001b[0;32m/Library/Frameworks/Python.framework/Versions/3.11/lib/python3.11/site-packages/scipy/io/matlab/_mio.py:45\u001b[0m, in \u001b[0;36m_open_file\u001b[0;34m(file_like, appendmat, mode)\u001b[0m\n\u001b[1;32m     43\u001b[0m     \u001b[39mif\u001b[39;00m appendmat \u001b[39mand\u001b[39;00m \u001b[39mnot\u001b[39;00m file_like\u001b[39m.\u001b[39mendswith(\u001b[39m'\u001b[39m\u001b[39m.mat\u001b[39m\u001b[39m'\u001b[39m):\n\u001b[1;32m     44\u001b[0m         file_like \u001b[39m+\u001b[39m\u001b[39m=\u001b[39m \u001b[39m'\u001b[39m\u001b[39m.mat\u001b[39m\u001b[39m'\u001b[39m\n\u001b[0;32m---> 45\u001b[0m     \u001b[39mreturn\u001b[39;00m \u001b[39mopen\u001b[39m(file_like, mode), \u001b[39mTrue\u001b[39;00m\n\u001b[1;32m     46\u001b[0m \u001b[39melse\u001b[39;00m:\n\u001b[1;32m     47\u001b[0m     \u001b[39mraise\u001b[39;00m \u001b[39mOSError\u001b[39;00m(\n\u001b[1;32m     48\u001b[0m         \u001b[39m'\u001b[39m\u001b[39mReader needs file name or open file-like object\u001b[39m\u001b[39m'\u001b[39m\n\u001b[1;32m     49\u001b[0m     ) \u001b[39mfrom\u001b[39;00m \u001b[39me\u001b[39;00m\n",
      "\u001b[0;31mFileNotFoundError\u001b[0m: [Errno 2] No such file or directory: 'preprocessing/YAC_ZuCo/YAC_Preprocessed/YAC_NR1_corrected_ET.mat'"
     ]
    }
   ],
   "source": [
    "File_name = \"preprocessing/YAC_ZuCo/YAC_Preprocessed/YAC_NR1_corrected_ET.mat\"\n",
    "mat_data = scipy.io.loadmat(File_name)\n",
    "eeg_data = mat_data['EEG']\n",
    "\n",
    "#Extract information\n",
    "sampling_rate = eeg_data['srate'][0, 0][0, 0]\n",
    "num_channels = eeg_data['nbchan'][0, 0][0, 0]\n",
    "num_samples = eeg_data['pnts'][0, 0][0, 0]\n",
    "eeg_signals = eeg_data['data'][0, 0]\n",
    "\n",
    "eeg_signals = eeg_data['data'][0, 0]\n",
    "eeg_signals_reshaped = np.transpose(eeg_signals)\n",
    "\n",
    "# Print the shape of eeg_signals\n",
    "print(f\"Shape of eeg_signals: {eeg_signals.shape}\")\n",
    "\n",
    "# Extract the number of channels from the shape of eeg_signals_reshaped\n",
    "num_channels = eeg_signals_reshaped.shape[0]\n",
    "print(f\"Number of channels from eeg_signals_reshaped: {num_channels}\")\n",
    "\n",
    "# Extract the number of channels directly from eeg_data\n",
    "# This assumes that nbchan is indeed the number of channels\n",
    "num_channels_from_data = eeg_data['nbchan'][0, 0][0, 0]\n",
    "print(f\"Number of channels from eeg_data['nbchan']: {num_channels_from_data}\")\n",
    "\n",
    "# Assuming 'eeg_data' is your EEG data structure\n",
    "num_channels_from_data = eeg_data['nbchan'][0, 0][0, 0]\n",
    "\n",
    "\n",
    "# Create an MNE Info object\n",
    "ch_names = [f'EEG {i + 1}' for i in range(num_channels)]\n",
    "info = mne.create_info(ch_names=ch_names[:eeg_signals_reshaped.shape[0]], sfreq=sampling_rate, ch_types='eeg')\n",
    "\n",
    "# Create MNE Raw object\n",
    "raw = mne.io.RawArray(eeg_signals_reshaped, info)\n",
    "\n",
    "# Filter only specific channels\n",
    "picked_channels = [0,1,2]  # Adjust these indices based on the channels you want to visualize\n",
    "filtered_raw = raw.copy().pick_channels([raw.ch_names[i] for i in picked_channels])\n",
    "\n",
    "# Apply filtering if needed\n",
    "filtered_raw.filter(l_freq=1, h_freq=40)  # Adjust the frequency range as needed\n",
    "\n",
    "# Plot the filtered EEG data for the selected channels\n",
    "filtered_raw.plot(scalings='auto', duration=1)  # Adjust duration as needed\n",
    "\n",
    "import matplotlib.pyplot as plt\n",
    "\n",
    "# Plot the filtered EEG data for the selected channels\n",
    "filtered_raw.plot(scalings='auto', duration=1)  # Adjust duration as needed\n",
    "\n",
    "# Assuming you have filtered_raw as your filtered Raw object\n",
    "# Create an Evoked object from the filtered raw data\n",
    "evoked = mne.EvokedArray(filtered_raw.get_data(), filtered_raw.info, tmin=0)\n",
    "\n",
    "# Plot the evoked data\n",
    "evoked.plot(scalings={'eeg': 1e-6})  # Adjust the scaling factor as needed\n",
    "\n",
    "plt.tight_layout()\n",
    "plt.show()"
   ]
  }
 ],
 "metadata": {
  "kernelspec": {
   "display_name": ".venv",
   "language": "python",
   "name": "python3"
  },
  "language_info": {
   "codemirror_mode": {
    "name": "ipython",
    "version": 3
   },
   "file_extension": ".py",
   "mimetype": "text/x-python",
   "name": "python",
   "nbconvert_exporter": "python",
   "pygments_lexer": "ipython3",
   "version": "3.11.1"
  }
 },
 "nbformat": 4,
 "nbformat_minor": 2
}
